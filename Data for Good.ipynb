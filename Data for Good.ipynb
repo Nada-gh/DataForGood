{
 "cells": [
  {
   "cell_type": "code",
   "execution_count": 134,
   "metadata": {},
   "outputs": [],
   "source": [
    "import os \n",
    "import pandas as pd \n",
    "import plotly as py\n",
    "import seaborn as sns \n",
    "import matplotlib.pyplot as plt\n",
    "\n",
    "# set dir\n",
    "os.chdir(\"C://Users//mandy//Desktop//DataForGood\")\n",
    "\n",
    "# Read in data \n",
    "data = pd.read_csv(\"multipleChoiceResponses.csv\", low_memory = False)\n",
    "\n",
    "# Extract column names \n",
    "colnames = data.iloc[0,:]\n",
    "\n",
    "data = data.iloc[1:,:]\n",
    "\n",
    "# set seaborn style \n",
    "sns.set(style=\"whitegrid\")"
   ]
  },
  {
   "cell_type": "markdown",
   "metadata": {},
   "source": [
    "## Outlier Removal \n",
    "\n",
    "Outerliers can be due to: \n",
    "1. Errorenous input (someone deliberately/accidentally lied on the survey) \n",
    "2. Extreme examples (think the \"Wayne Gretzsky\" of data science)"
   ]
  },
  {
   "cell_type": "code",
   "execution_count": 66,
   "metadata": {},
   "outputs": [],
   "source": [
    "\"\"\" Removing Potentially Erroraneous input \"\"\"\n",
    "\n",
    "# Remove responses that are completed under 30 seconds\n",
    "# These respondants likely rushed through the survey without much thought (responses won't be as credible)\n",
    "data[\"Time from Start to Finish (seconds)\"] = data[\"Time from Start to Finish (seconds)\"].apply(pd.to_numeric)\n",
    "data = data[data[\"Time from Start to Finish (seconds)\"] > 30]\n",
    "\n",
    "# Remove logical inconsistencies\n",
    "# Example: Remove respondants who claim to be unemployed and making more than a certain amount of money "
   ]
  },
  {
   "cell_type": "markdown",
   "metadata": {},
   "source": [
    "## Where do surveyors come from?\n",
    "\n",
    "Plotting surveyor location on chlorepath map."
   ]
  },
  {
   "cell_type": "code",
   "execution_count": 51,
   "metadata": {},
   "outputs": [
    {
     "name": "stdout",
     "output_type": "stream",
     "text": [
      "High five! You successfully sent some data to your account on plotly. View your plot in your browser at https://plot.ly/~happilyeverafter95/0 or inside your plot.ly account where it is named 'd3-world-map'\n"
     ]
    },
    {
     "data": {
      "text/html": [
       "<iframe id=\"igraph\" scrolling=\"no\" style=\"border:none;\" seamless=\"seamless\" src=\"https://plot.ly/~happilyeverafter95/0.embed\" height=\"525px\" width=\"100%\"></iframe>"
      ],
      "text/plain": [
       "<plotly.tools.PlotlyDisplay object>"
      ]
     },
     "execution_count": 51,
     "metadata": {},
     "output_type": "execute_result"
    }
   ],
   "source": [
    "country_freq = data[\"Q3\"].value_counts().reset_index()\n",
    "country_freq.columns = [\"country\", \"num respondants\"]\n",
    "\n",
    "# Obtain country codes for plotting \n",
    "# Note: examining the data tells us that not all countries are properly coded\n",
    "# We can create a mapper to map names as they appear in the survey to the country names in the plotly dataset\n",
    "\n",
    "mapper = {\"United States of America\": \"United States\",\n",
    "          \"Viet Nam\": \"Vietnam\",\n",
    "          \"United Kingdom of Great Britain and Northern Ireland\": \"United Kingdom\",\n",
    "          \"South Korea\": \"Korea, South\",\n",
    "          \"Iran, Islamic Republic of...\": \"Iran\",\n",
    "          \"Hong Kong (S.A.R.)\": \"Hong Kong\",\n",
    "          \"Republic of Korea\": \"Korea, North\"\n",
    "         }\n",
    "\n",
    "country_freq[\"country\"] = country_freq[\"country\"].apply(lambda x: mapper[x] if x in mapper.keys() else x)\n",
    "\n",
    "codes = pd.read_csv('https://raw.githubusercontent.com/plotly/datasets/master/2014_world_gdp_with_codes.csv')\n",
    "\n",
    "# Merge country codes with country names \n",
    "country_freq = pd.merge(country_freq, codes, how = \"inner\", left_on = ['country'], right_on = ['COUNTRY'])\n",
    "\n",
    "# Plot respondants by country\n",
    "api_key = \"Redacted\"\n",
    "py.tools.set_credentials_file(username='happilyeverafter95',api_key=api_key)\n",
    "\n",
    "country_plot = [ dict(\n",
    "        type = 'choropleth',\n",
    "        locations = country_freq['CODE'],\n",
    "        z = country_freq[\"num respondants\"],\n",
    "        text = country_freq['COUNTRY'],\n",
    "        colorscale = \"Greens\",\n",
    "        autocolorscale = False,\n",
    "        reversescale = True,\n",
    "        marker = dict(\n",
    "            line = dict (\n",
    "                color = 'rgb(180,180,180)',\n",
    "                width = 0.5\n",
    "            ) ),\n",
    "        colorbar = dict(\n",
    "            autotick = False,\n",
    "            title = 'Number of Responders'),\n",
    "      ) ]\n",
    "\n",
    "layout = dict(\n",
    "    title = 'Responders by country',\n",
    "    geo = dict(\n",
    "        showframe = False,\n",
    "        showcoastlines = False,\n",
    "        projection = dict(\n",
    "            type = 'Mercator'\n",
    "        )\n",
    "    )\n",
    ")\n",
    "\n",
    "# See plot at https://plot.ly/~happilyeverafter95/0\n",
    "fig = dict( data=country_plot, layout=layout )\n",
    "py.plotly.iplot(fig, validate=False, filename='d3-world-map')\n"
   ]
  },
  {
   "cell_type": "markdown",
   "metadata": {},
   "source": [
    "## Level of Education for each Job\n",
    "\n",
    "How \"educated\" do you need to be to be a data scientist? Data Engineer? Data Analyst?"
   ]
  },
  {
   "cell_type": "code",
   "execution_count": 115,
   "metadata": {},
   "outputs": [
    {
     "data": {
      "image/png": "[encoded data removed]",
      "text/plain": [
       "<matplotlib.figure.Figure at 0x2da00f1a390>"
      ]
     },
     "metadata": {},
     "output_type": "display_data"
    }
   ],
   "source": [
    "education = data[[\"Q4\", \"Q6\"]].dropna(how = \"any\")\n",
    "education.columns = [\"education\", \"job\"]\n",
    "\n",
    "# Remove responses from students, unemployed individuals or people who chose not to answer\n",
    "education = education[~education[\"job\"].isin([\"Student\", \"Not employed\", \"I prefer not to answer\"])]\n",
    "education = education[education[\"education\"] != \"I prefer not to answer\"]\n",
    "\n",
    "# Separate into Master's, Doctoral, Bachelor's/Professional degree or less \n",
    "education[\"education\"] = education[\"education\"].apply(lambda x: x if x in [\"Doctoral degree\", \"Master’s degree\"] else \"Bachelor/Professional degree or less\")\n",
    "\n",
    "# Examine subset of careers\n",
    "education[\"job\"] = education[\"job\"].apply(lambda x: x if x in [\"Data Scientist\", \"Software Engineer\", \"Data Analyst\", \"Data Engineer\"] else \"Other\")\n",
    "\n",
    "education = education.groupby([\"job\", \"education\"]).size().reset_index()\n",
    "education.columns = [\"job\", \"education\", \"Num\"]\n",
    "\n",
    "ax = sns.barplot(x=\"job\", y=\"Num\", hue = \"education\",data=education)\n",
    "ax.set(xlabel = \"Job\", ylabel = \"# Respondants\")\n",
    "\n",
    "plt.show()"
   ]
  },
  {
   "cell_type": "markdown",
   "metadata": {},
   "source": [
    "## Salary Variations between Jobs "
   ]
  },
  {
   "cell_type": "code",
   "execution_count": 136,
   "metadata": {},
   "outputs": [
    {
     "data": {
      "image/png": "[encoded data removed]",
      "text/plain": [
       "<matplotlib.figure.Figure at 0x2da638d6898>"
      ]
     },
     "metadata": {},
     "output_type": "display_data"
    }
   ],
   "source": [
    "salary = data[[\"Q6\", \"Q9\"]].dropna(how = \"any\")\n",
    "salary.columns = [\"job\", \"salary\"]\n",
    "\n",
    "# Remove respondants who are students, unemployed or wish not to disclose yearly compensation\n",
    "salary = salary[~salary[\"job\"].isin([\"Student\", \"Not employed\",\"I prefer not to answer\"])]\n",
    "salary = salary[salary[\"salary\"] != \"I do not wish to disclose my approximate yearly compensation\"]\n",
    "\n",
    "# Examine subset of careers\n",
    "salary[\"job\"] = salary[\"job\"].apply(lambda x: x if x in [\"Data Scientist\", \"Software Engineer\", \"Data Analyst\", \"Data Engineer\"] else \"Other\")\n",
    "\n",
    "# Map salary to upper limit\n",
    "def map_salary(amt):\n",
    "    amt = amt.split(\"-\")\n",
    "    if len(amt) == 2:\n",
    "        amt = amt[1]\n",
    "    else: \n",
    "        amt = amt[0]\n",
    "    amt = [c for c in amt if c.isdigit()]\n",
    "    amt = \"\".join(amt)\n",
    "    return int(amt)\n",
    "\n",
    "salary[\"salary\"] = salary[\"salary\"].apply(map_salary)\n",
    "ax = sns.boxplot(x=\"job\", y = \"salary\",data=salary)\n",
    "ax.set(xlabel = \"Job\", ylabel = \"Upper limit of Salary\")\n",
    "\n",
    "plt.show()"
   ]
  },
  {
   "cell_type": "markdown",
   "metadata": {},
   "source": [
    "The range is very large for the previous salary chart. \n",
    "\n",
    "Let's remove some superstar observations and see if that gives us more insight."
   ]
  },
  {
   "cell_type": "code",
   "execution_count": 139,
   "metadata": {},
   "outputs": [
    {
     "data": {
      "image/png": "[encoded data removed]",
      "text/plain": [
       "<matplotlib.figure.Figure at 0x2da00721518>"
      ]
     },
     "metadata": {},
     "output_type": "display_data"
    }
   ],
   "source": [
    "# Remove all responses where upper limit of salary > (mean + 3 standard deviation)\n",
    "\n",
    "mean = salary[\"salary\"].mean()\n",
    "std = salary[\"salary\"].std()\n",
    "\n",
    "salary = salary[salary[\"salary\"] <= mean + 3*std]\n",
    "\n",
    "ax = sns.boxplot(x=\"job\", y = \"salary\",data=salary)\n",
    "ax.set(xlabel = \"Job\", ylabel = \"Upper limit of Salary\")\n",
    "\n",
    "plt.show()"
   ]
  },
  {
   "cell_type": "code",
   "execution_count": 140,
   "metadata": {},
   "outputs": [
    {
     "data": {
      "text/plain": [
       "'C:\\\\Users\\\\mandy\\\\Desktop\\\\DataForGood'"
      ]
     },
     "execution_count": 140,
     "metadata": {},
     "output_type": "execute_result"
    }
   ],
   "source": []
  },
  {
   "cell_type": "code",
   "execution_count": null,
   "metadata": {
    "collapsed": true
   },
   "outputs": [],
   "source": []
  }
 ],
 "metadata": {
  "kernelspec": {
   "display_name": "Python 3",
   "language": "python",
   "name": "python3"
  },
  "language_info": {
   "codemirror_mode": {
    "name": "ipython",
    "version": 3
   },
   "file_extension": ".py",
   "mimetype": "text/x-python",
   "name": "python",
   "nbconvert_exporter": "python",
   "pygments_lexer": "ipython3",
   "version": "3.6.2"
  }
 },
 "nbformat": 4,
 "nbformat_minor": 2
}
